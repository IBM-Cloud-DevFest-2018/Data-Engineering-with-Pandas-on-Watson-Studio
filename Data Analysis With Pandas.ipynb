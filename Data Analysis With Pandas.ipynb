{
    "nbformat_minor": 1, 
    "cells": [
        {
            "execution_count": 4, 
            "cell_type": "code", 
            "metadata": {}, 
            "outputs": [], 
            "source": "import pandas as pd"
        }, 
        {
            "execution_count": 21, 
            "cell_type": "code", 
            "metadata": {}, 
            "outputs": [], 
            "source": "series = pd.Series([1,2,3,4,5,6,7,8,9])"
        }, 
        {
            "execution_count": 10, 
            "cell_type": "code", 
            "metadata": {}, 
            "outputs": [
                {
                    "execution_count": 10, 
                    "metadata": {}, 
                    "data": {
                        "text/plain": "0        1\n1        2\n2    kuanl\n3        4\n4        5\n5     6.06\n6        7\n7        8\n8        9\ndtype: object"
                    }, 
                    "output_type": "execute_result"
                }
            ], 
            "source": "series"
        }, 
        {
            "execution_count": 12, 
            "cell_type": "code", 
            "metadata": {}, 
            "outputs": [
                {
                    "execution_count": 12, 
                    "metadata": {}, 
                    "data": {
                        "text/plain": "array([1, 2, 'kuanl', 4, 5, 6.06, 7, 8, 9], dtype=object)"
                    }, 
                    "output_type": "execute_result"
                }
            ], 
            "source": "series.values"
        }, 
        {
            "execution_count": 13, 
            "cell_type": "code", 
            "metadata": {}, 
            "outputs": [
                {
                    "execution_count": 13, 
                    "metadata": {}, 
                    "data": {
                        "text/plain": "RangeIndex(start=0, stop=9, step=1)"
                    }, 
                    "output_type": "execute_result"
                }
            ], 
            "source": "series.index"
        }, 
        {
            "execution_count": 14, 
            "cell_type": "code", 
            "metadata": {}, 
            "outputs": [], 
            "source": "series1 = pd.Series([1,2,3,\"Kunal\",\"Is\",\"So\",\"Cool\",4,5,7.0,9.0],index=['One','Two','Three','Four','Five','Six','Seven','Eight','Nine','Ten','Eleven'])"
        }, 
        {
            "execution_count": 15, 
            "cell_type": "code", 
            "metadata": {}, 
            "outputs": [
                {
                    "execution_count": 15, 
                    "metadata": {}, 
                    "data": {
                        "text/plain": "One           1\nTwo           2\nThree         3\nFour      Kunal\nFive         Is\nSix          So\nSeven      Cool\nEight         4\nNine          5\nTen           7\nEleven        9\ndtype: object"
                    }, 
                    "output_type": "execute_result"
                }
            ], 
            "source": "series1"
        }, 
        {
            "execution_count": 17, 
            "cell_type": "code", 
            "metadata": {}, 
            "outputs": [
                {
                    "execution_count": 17, 
                    "metadata": {}, 
                    "data": {
                        "text/plain": "'Kunal'"
                    }, 
                    "output_type": "execute_result"
                }
            ], 
            "source": "series1['Four']"
        }, 
        {
            "execution_count": 19, 
            "cell_type": "code", 
            "metadata": {}, 
            "outputs": [
                {
                    "execution_count": 19, 
                    "metadata": {}, 
                    "data": {
                        "text/plain": "Four    Kunal\nFive       Is\nSix        So\ndtype: object"
                    }, 
                    "output_type": "execute_result"
                }
            ], 
            "source": "series1[['Four','Five','Six']]"
        }, 
        {
            "execution_count": 22, 
            "cell_type": "code", 
            "metadata": {}, 
            "outputs": [
                {
                    "execution_count": 22, 
                    "metadata": {}, 
                    "data": {
                        "text/plain": "2    3\n3    4\n4    5\n5    6\n6    7\n7    8\n8    9\ndtype: int64"
                    }, 
                    "output_type": "execute_result"
                }
            ], 
            "source": "series[series > 2]"
        }, 
        {
            "execution_count": 23, 
            "cell_type": "code", 
            "metadata": {}, 
            "outputs": [], 
            "source": "series2 = pd.Series({'a':1,'b':2,'c':3})"
        }, 
        {
            "execution_count": 24, 
            "cell_type": "code", 
            "metadata": {}, 
            "outputs": [
                {
                    "execution_count": 24, 
                    "metadata": {}, 
                    "data": {
                        "text/plain": "a    1\nb    2\nc    3\ndtype: int64"
                    }, 
                    "output_type": "execute_result"
                }
            ], 
            "source": "series2"
        }, 
        {
            "execution_count": 27, 
            "cell_type": "code", 
            "metadata": {}, 
            "outputs": [
                {
                    "execution_count": 27, 
                    "metadata": {}, 
                    "data": {
                        "text/html": "<div>\n<style scoped>\n    .dataframe tbody tr th:only-of-type {\n        vertical-align: middle;\n    }\n\n    .dataframe tbody tr th {\n        vertical-align: top;\n    }\n\n    .dataframe thead th {\n        text-align: right;\n    }\n</style>\n<table border=\"1\" class=\"dataframe\">\n  <thead>\n    <tr style=\"text-align: right;\">\n      <th></th>\n      <th>PassengerID</th>\n      <th>Name</th>\n      <th>PClass</th>\n      <th>Age</th>\n      <th>Sex</th>\n      <th>Survived</th>\n      <th>SexCode</th>\n    </tr>\n  </thead>\n  <tbody>\n    <tr>\n      <th>0</th>\n      <td>1</td>\n      <td>Allen, Miss Elisabeth Walton</td>\n      <td>1st</td>\n      <td>29.00</td>\n      <td>female</td>\n      <td>1</td>\n      <td>1</td>\n    </tr>\n    <tr>\n      <th>1</th>\n      <td>2</td>\n      <td>Allison, Miss Helen Loraine</td>\n      <td>1st</td>\n      <td>2.00</td>\n      <td>female</td>\n      <td>0</td>\n      <td>1</td>\n    </tr>\n    <tr>\n      <th>2</th>\n      <td>3</td>\n      <td>Allison, Mr Hudson Joshua Creighton</td>\n      <td>1st</td>\n      <td>30.00</td>\n      <td>male</td>\n      <td>0</td>\n      <td>0</td>\n    </tr>\n    <tr>\n      <th>3</th>\n      <td>4</td>\n      <td>Allison, Mrs Hudson JC (Bessie Waldo Daniels)</td>\n      <td>1st</td>\n      <td>25.00</td>\n      <td>female</td>\n      <td>0</td>\n      <td>1</td>\n    </tr>\n    <tr>\n      <th>4</th>\n      <td>5</td>\n      <td>Allison, Master Hudson Trevor</td>\n      <td>1st</td>\n      <td>0.92</td>\n      <td>male</td>\n      <td>1</td>\n      <td>0</td>\n    </tr>\n  </tbody>\n</table>\n</div>", 
                        "text/plain": "   PassengerID                                           Name PClass    Age  \\\n0            1                   Allen, Miss Elisabeth Walton    1st  29.00   \n1            2                    Allison, Miss Helen Loraine    1st   2.00   \n2            3            Allison, Mr Hudson Joshua Creighton    1st  30.00   \n3            4  Allison, Mrs Hudson JC (Bessie Waldo Daniels)    1st  25.00   \n4            5                  Allison, Master Hudson Trevor    1st   0.92   \n\n      Sex  Survived  SexCode  \n0  female         1        1  \n1  female         0        1  \n2    male         0        0  \n3  female         0        1  \n4    male         1        0  "
                    }, 
                    "output_type": "execute_result"
                }
            ], 
            "source": "# The code was removed by DSX for sharing."
        }, 
        {
            "execution_count": 30, 
            "cell_type": "code", 
            "metadata": {}, 
            "outputs": [
                {
                    "output_type": "stream", 
                    "name": "stdout", 
                    "text": "PClass  Survived\n*       0             1\n1st     0           129\n        1           193\n2nd     0           160\n        1           119\n3rd     0           573\n        1           138\nName: PassengerID, dtype: int64\n"
                }
            ], 
            "source": "print(df_data_1.groupby(['PClass','Survived'])['PassengerID'].count())"
        }, 
        {
            "execution_count": 33, 
            "cell_type": "code", 
            "metadata": {}, 
            "outputs": [
                {
                    "execution_count": 33, 
                    "metadata": {}, 
                    "data": {
                        "text/html": "<div>\n<style scoped>\n    .dataframe tbody tr th:only-of-type {\n        vertical-align: middle;\n    }\n\n    .dataframe tbody tr th {\n        vertical-align: top;\n    }\n\n    .dataframe thead th {\n        text-align: right;\n    }\n</style>\n<table border=\"1\" class=\"dataframe\">\n  <thead>\n    <tr style=\"text-align: right;\">\n      <th></th>\n      <th>Date</th>\n      <th>Open</th>\n      <th>High</th>\n      <th>Low</th>\n      <th>Close</th>\n      <th>Volume</th>\n      <th>Adj Close</th>\n    </tr>\n  </thead>\n  <tbody>\n    <tr>\n      <th>0</th>\n      <td>2017-02-22</td>\n      <td>136.429993</td>\n      <td>137.119995</td>\n      <td>136.110001</td>\n      <td>137.110001</td>\n      <td>20745300</td>\n      <td>137.110001</td>\n    </tr>\n    <tr>\n      <th>1</th>\n      <td>2017-02-21</td>\n      <td>136.229996</td>\n      <td>136.750000</td>\n      <td>135.979996</td>\n      <td>136.699997</td>\n      <td>24265100</td>\n      <td>136.699997</td>\n    </tr>\n    <tr>\n      <th>2</th>\n      <td>2017-02-17</td>\n      <td>135.100006</td>\n      <td>135.830002</td>\n      <td>135.100006</td>\n      <td>135.720001</td>\n      <td>22084500</td>\n      <td>135.720001</td>\n    </tr>\n    <tr>\n      <th>3</th>\n      <td>2017-02-16</td>\n      <td>135.669998</td>\n      <td>135.899994</td>\n      <td>134.839996</td>\n      <td>135.350006</td>\n      <td>22118000</td>\n      <td>135.350006</td>\n    </tr>\n    <tr>\n      <th>4</th>\n      <td>2017-02-15</td>\n      <td>135.520004</td>\n      <td>136.270004</td>\n      <td>134.619995</td>\n      <td>135.509995</td>\n      <td>35501600</td>\n      <td>135.509995</td>\n    </tr>\n    <tr>\n      <th>5</th>\n      <td>2017-02-14</td>\n      <td>133.470001</td>\n      <td>135.089996</td>\n      <td>133.250000</td>\n      <td>135.020004</td>\n      <td>32815500</td>\n      <td>135.020004</td>\n    </tr>\n    <tr>\n      <th>6</th>\n      <td>2017-02-13</td>\n      <td>133.080002</td>\n      <td>133.820007</td>\n      <td>132.750000</td>\n      <td>133.289993</td>\n      <td>23035400</td>\n      <td>133.289993</td>\n    </tr>\n    <tr>\n      <th>7</th>\n      <td>2017-02-10</td>\n      <td>132.460007</td>\n      <td>132.940002</td>\n      <td>132.050003</td>\n      <td>132.119995</td>\n      <td>20065500</td>\n      <td>132.119995</td>\n    </tr>\n    <tr>\n      <th>8</th>\n      <td>2017-02-09</td>\n      <td>131.649994</td>\n      <td>132.449997</td>\n      <td>131.119995</td>\n      <td>132.419998</td>\n      <td>28349900</td>\n      <td>132.419998</td>\n    </tr>\n    <tr>\n      <th>9</th>\n      <td>2017-02-08</td>\n      <td>131.350006</td>\n      <td>132.220001</td>\n      <td>131.220001</td>\n      <td>132.039993</td>\n      <td>23004100</td>\n      <td>131.469994</td>\n    </tr>\n    <tr>\n      <th>10</th>\n      <td>2017-02-07</td>\n      <td>130.539993</td>\n      <td>132.089996</td>\n      <td>130.449997</td>\n      <td>131.529999</td>\n      <td>38183800</td>\n      <td>130.962201</td>\n    </tr>\n    <tr>\n      <th>11</th>\n      <td>2017-02-06</td>\n      <td>129.130005</td>\n      <td>130.500000</td>\n      <td>128.899994</td>\n      <td>130.289993</td>\n      <td>26845900</td>\n      <td>129.727549</td>\n    </tr>\n    <tr>\n      <th>12</th>\n      <td>2017-02-03</td>\n      <td>128.309998</td>\n      <td>129.190002</td>\n      <td>128.160004</td>\n      <td>129.080002</td>\n      <td>24507300</td>\n      <td>128.522781</td>\n    </tr>\n    <tr>\n      <th>13</th>\n      <td>2017-02-02</td>\n      <td>127.980003</td>\n      <td>129.389999</td>\n      <td>127.779999</td>\n      <td>128.529999</td>\n      <td>33710400</td>\n      <td>127.975152</td>\n    </tr>\n    <tr>\n      <th>14</th>\n      <td>2017-02-01</td>\n      <td>127.029999</td>\n      <td>130.490005</td>\n      <td>127.010002</td>\n      <td>128.750000</td>\n      <td>111985000</td>\n      <td>128.194203</td>\n    </tr>\n    <tr>\n      <th>15</th>\n      <td>2017-01-31</td>\n      <td>121.150002</td>\n      <td>121.389999</td>\n      <td>120.620003</td>\n      <td>121.349998</td>\n      <td>49201000</td>\n      <td>120.826147</td>\n    </tr>\n    <tr>\n      <th>16</th>\n      <td>2017-01-30</td>\n      <td>120.930000</td>\n      <td>121.629997</td>\n      <td>120.660004</td>\n      <td>121.629997</td>\n      <td>30377500</td>\n      <td>121.104937</td>\n    </tr>\n    <tr>\n      <th>17</th>\n      <td>2017-01-27</td>\n      <td>122.139999</td>\n      <td>122.349998</td>\n      <td>121.599998</td>\n      <td>121.949997</td>\n      <td>20562900</td>\n      <td>121.423555</td>\n    </tr>\n    <tr>\n      <th>18</th>\n      <td>2017-01-26</td>\n      <td>121.669998</td>\n      <td>122.440002</td>\n      <td>121.599998</td>\n      <td>121.940002</td>\n      <td>26337600</td>\n      <td>121.413604</td>\n    </tr>\n    <tr>\n      <th>19</th>\n      <td>2017-01-25</td>\n      <td>120.419998</td>\n      <td>122.099998</td>\n      <td>120.279999</td>\n      <td>121.879997</td>\n      <td>32377600</td>\n      <td>121.353858</td>\n    </tr>\n    <tr>\n      <th>20</th>\n      <td>2017-01-24</td>\n      <td>119.550003</td>\n      <td>120.099998</td>\n      <td>119.500000</td>\n      <td>119.970001</td>\n      <td>23211000</td>\n      <td>119.452107</td>\n    </tr>\n    <tr>\n      <th>21</th>\n      <td>2017-01-23</td>\n      <td>120.000000</td>\n      <td>120.809998</td>\n      <td>119.769997</td>\n      <td>120.080002</td>\n      <td>22050200</td>\n      <td>119.561633</td>\n    </tr>\n    <tr>\n      <th>22</th>\n      <td>2017-01-20</td>\n      <td>120.449997</td>\n      <td>120.449997</td>\n      <td>119.730003</td>\n      <td>120.000000</td>\n      <td>32597900</td>\n      <td>119.481976</td>\n    </tr>\n    <tr>\n      <th>23</th>\n      <td>2017-01-19</td>\n      <td>119.400002</td>\n      <td>120.089996</td>\n      <td>119.370003</td>\n      <td>119.779999</td>\n      <td>25597300</td>\n      <td>119.262925</td>\n    </tr>\n    <tr>\n      <th>24</th>\n      <td>2017-01-18</td>\n      <td>120.000000</td>\n      <td>120.500000</td>\n      <td>119.709999</td>\n      <td>119.989998</td>\n      <td>23713000</td>\n      <td>119.472017</td>\n    </tr>\n    <tr>\n      <th>25</th>\n      <td>2017-01-17</td>\n      <td>118.339996</td>\n      <td>120.239998</td>\n      <td>118.220001</td>\n      <td>120.000000</td>\n      <td>34439800</td>\n      <td>119.481976</td>\n    </tr>\n    <tr>\n      <th>26</th>\n      <td>2017-01-13</td>\n      <td>119.110001</td>\n      <td>119.620003</td>\n      <td>118.809998</td>\n      <td>119.040001</td>\n      <td>26111900</td>\n      <td>118.526121</td>\n    </tr>\n    <tr>\n      <th>27</th>\n      <td>2017-01-12</td>\n      <td>118.900002</td>\n      <td>119.300003</td>\n      <td>118.209999</td>\n      <td>119.250000</td>\n      <td>27086200</td>\n      <td>118.735214</td>\n    </tr>\n    <tr>\n      <th>28</th>\n      <td>2017-01-11</td>\n      <td>118.739998</td>\n      <td>119.930000</td>\n      <td>118.599998</td>\n      <td>119.750000</td>\n      <td>27588600</td>\n      <td>119.233055</td>\n    </tr>\n    <tr>\n      <th>29</th>\n      <td>2017-01-10</td>\n      <td>118.769997</td>\n      <td>119.379997</td>\n      <td>118.300003</td>\n      <td>119.110001</td>\n      <td>24462100</td>\n      <td>118.595819</td>\n    </tr>\n    <tr>\n      <th>...</th>\n      <td>...</td>\n      <td>...</td>\n      <td>...</td>\n      <td>...</td>\n      <td>...</td>\n      <td>...</td>\n      <td>...</td>\n    </tr>\n    <tr>\n      <th>1228</th>\n      <td>2012-04-04</td>\n      <td>624.349991</td>\n      <td>625.859985</td>\n      <td>617.000023</td>\n      <td>624.309990</td>\n      <td>143245200</td>\n      <td>80.885322</td>\n    </tr>\n    <tr>\n      <th>1229</th>\n      <td>2012-04-03</td>\n      <td>627.300018</td>\n      <td>632.209984</td>\n      <td>622.510002</td>\n      <td>629.319984</td>\n      <td>208639900</td>\n      <td>81.534415</td>\n    </tr>\n    <tr>\n      <th>1230</th>\n      <td>2012-04-02</td>\n      <td>601.830009</td>\n      <td>618.769997</td>\n      <td>600.379990</td>\n      <td>618.630020</td>\n      <td>149587900</td>\n      <td>80.149428</td>\n    </tr>\n    <tr>\n      <th>1231</th>\n      <td>2012-03-30</td>\n      <td>608.769981</td>\n      <td>610.559982</td>\n      <td>597.939987</td>\n      <td>599.550011</td>\n      <td>182759500</td>\n      <td>77.677430</td>\n    </tr>\n    <tr>\n      <th>1232</th>\n      <td>2012-03-29</td>\n      <td>612.780006</td>\n      <td>616.560013</td>\n      <td>607.230026</td>\n      <td>609.859993</td>\n      <td>152059600</td>\n      <td>79.013187</td>\n    </tr>\n    <tr>\n      <th>1233</th>\n      <td>2012-03-28</td>\n      <td>618.379974</td>\n      <td>621.450005</td>\n      <td>610.309990</td>\n      <td>617.620010</td>\n      <td>163865100</td>\n      <td>80.018571</td>\n    </tr>\n    <tr>\n      <th>1234</th>\n      <td>2012-03-27</td>\n      <td>606.180016</td>\n      <td>616.280006</td>\n      <td>606.060013</td>\n      <td>614.480019</td>\n      <td>151782400</td>\n      <td>79.611755</td>\n    </tr>\n    <tr>\n      <th>1235</th>\n      <td>2012-03-26</td>\n      <td>599.790016</td>\n      <td>607.150024</td>\n      <td>595.259979</td>\n      <td>606.979980</td>\n      <td>148935500</td>\n      <td>78.640054</td>\n    </tr>\n    <tr>\n      <th>1236</th>\n      <td>2012-03-23</td>\n      <td>600.490005</td>\n      <td>601.799995</td>\n      <td>594.399986</td>\n      <td>596.050011</td>\n      <td>107622200</td>\n      <td>77.223972</td>\n    </tr>\n    <tr>\n      <th>1237</th>\n      <td>2012-03-22</td>\n      <td>597.779984</td>\n      <td>604.499977</td>\n      <td>595.529999</td>\n      <td>599.340019</td>\n      <td>155967700</td>\n      <td>77.650224</td>\n    </tr>\n    <tr>\n      <th>1238</th>\n      <td>2012-03-21</td>\n      <td>602.739990</td>\n      <td>609.650002</td>\n      <td>601.410027</td>\n      <td>602.499985</td>\n      <td>161010500</td>\n      <td>78.059627</td>\n    </tr>\n    <tr>\n      <th>1239</th>\n      <td>2012-03-20</td>\n      <td>599.510010</td>\n      <td>606.899979</td>\n      <td>591.480026</td>\n      <td>605.959984</td>\n      <td>204165500</td>\n      <td>78.507903</td>\n    </tr>\n    <tr>\n      <th>1240</th>\n      <td>2012-03-19</td>\n      <td>598.370010</td>\n      <td>601.769981</td>\n      <td>589.050011</td>\n      <td>601.100006</td>\n      <td>225309000</td>\n      <td>77.878247</td>\n    </tr>\n    <tr>\n      <th>1241</th>\n      <td>2012-03-16</td>\n      <td>584.719978</td>\n      <td>589.199974</td>\n      <td>577.999985</td>\n      <td>585.569984</td>\n      <td>206371900</td>\n      <td>75.866184</td>\n    </tr>\n    <tr>\n      <th>1242</th>\n      <td>2012-03-15</td>\n      <td>599.609985</td>\n      <td>600.009995</td>\n      <td>578.550011</td>\n      <td>585.559998</td>\n      <td>289929500</td>\n      <td>75.864890</td>\n    </tr>\n    <tr>\n      <th>1243</th>\n      <td>2012-03-14</td>\n      <td>578.050026</td>\n      <td>594.719994</td>\n      <td>575.399979</td>\n      <td>589.580009</td>\n      <td>354711000</td>\n      <td>76.385721</td>\n    </tr>\n    <tr>\n      <th>1244</th>\n      <td>2012-03-13</td>\n      <td>557.540024</td>\n      <td>568.180000</td>\n      <td>555.750023</td>\n      <td>568.099998</td>\n      <td>172713800</td>\n      <td>73.602781</td>\n    </tr>\n    <tr>\n      <th>1245</th>\n      <td>2012-03-12</td>\n      <td>548.979988</td>\n      <td>551.999977</td>\n      <td>547.000023</td>\n      <td>551.999977</td>\n      <td>101820600</td>\n      <td>71.516869</td>\n    </tr>\n    <tr>\n      <th>1246</th>\n      <td>2012-03-09</td>\n      <td>544.209999</td>\n      <td>547.740013</td>\n      <td>543.110001</td>\n      <td>545.170021</td>\n      <td>104729800</td>\n      <td>70.631983</td>\n    </tr>\n    <tr>\n      <th>1247</th>\n      <td>2012-03-08</td>\n      <td>534.689995</td>\n      <td>542.989998</td>\n      <td>532.120003</td>\n      <td>541.989975</td>\n      <td>129114300</td>\n      <td>70.219978</td>\n    </tr>\n    <tr>\n      <th>1248</th>\n      <td>2012-03-07</td>\n      <td>536.800003</td>\n      <td>537.779999</td>\n      <td>523.299988</td>\n      <td>530.690010</td>\n      <td>199630200</td>\n      <td>68.755959</td>\n    </tr>\n    <tr>\n      <th>1249</th>\n      <td>2012-03-06</td>\n      <td>523.659996</td>\n      <td>533.690025</td>\n      <td>516.219986</td>\n      <td>530.259987</td>\n      <td>202559700</td>\n      <td>68.700246</td>\n    </tr>\n    <tr>\n      <th>1250</th>\n      <td>2012-03-05</td>\n      <td>545.420013</td>\n      <td>547.479980</td>\n      <td>526.000023</td>\n      <td>533.160027</td>\n      <td>202281100</td>\n      <td>69.075974</td>\n    </tr>\n    <tr>\n      <th>1251</th>\n      <td>2012-03-02</td>\n      <td>544.240013</td>\n      <td>546.800018</td>\n      <td>542.519974</td>\n      <td>545.180008</td>\n      <td>107928100</td>\n      <td>70.633277</td>\n    </tr>\n    <tr>\n      <th>1252</th>\n      <td>2012-03-01</td>\n      <td>548.169983</td>\n      <td>548.209984</td>\n      <td>538.769981</td>\n      <td>544.469978</td>\n      <td>170817500</td>\n      <td>70.541286</td>\n    </tr>\n    <tr>\n      <th>1253</th>\n      <td>2012-02-29</td>\n      <td>541.560005</td>\n      <td>547.610023</td>\n      <td>535.700005</td>\n      <td>542.440025</td>\n      <td>238002800</td>\n      <td>70.278286</td>\n    </tr>\n    <tr>\n      <th>1254</th>\n      <td>2012-02-28</td>\n      <td>527.960014</td>\n      <td>535.410011</td>\n      <td>525.850006</td>\n      <td>535.410011</td>\n      <td>150096800</td>\n      <td>69.367481</td>\n    </tr>\n    <tr>\n      <th>1255</th>\n      <td>2012-02-27</td>\n      <td>521.309982</td>\n      <td>528.500000</td>\n      <td>516.280014</td>\n      <td>525.760017</td>\n      <td>136895500</td>\n      <td>68.117232</td>\n    </tr>\n    <tr>\n      <th>1256</th>\n      <td>2012-02-24</td>\n      <td>519.669998</td>\n      <td>522.899979</td>\n      <td>518.640015</td>\n      <td>522.409981</td>\n      <td>103768000</td>\n      <td>67.683203</td>\n    </tr>\n    <tr>\n      <th>1257</th>\n      <td>2012-02-23</td>\n      <td>515.079987</td>\n      <td>517.830009</td>\n      <td>509.499992</td>\n      <td>516.389977</td>\n      <td>142006900</td>\n      <td>66.903253</td>\n    </tr>\n  </tbody>\n</table>\n<p>1258 rows \u00d7 7 columns</p>\n</div>", 
                        "text/plain": "            Date        Open        High         Low       Close     Volume  \\\n0     2017-02-22  136.429993  137.119995  136.110001  137.110001   20745300   \n1     2017-02-21  136.229996  136.750000  135.979996  136.699997   24265100   \n2     2017-02-17  135.100006  135.830002  135.100006  135.720001   22084500   \n3     2017-02-16  135.669998  135.899994  134.839996  135.350006   22118000   \n4     2017-02-15  135.520004  136.270004  134.619995  135.509995   35501600   \n5     2017-02-14  133.470001  135.089996  133.250000  135.020004   32815500   \n6     2017-02-13  133.080002  133.820007  132.750000  133.289993   23035400   \n7     2017-02-10  132.460007  132.940002  132.050003  132.119995   20065500   \n8     2017-02-09  131.649994  132.449997  131.119995  132.419998   28349900   \n9     2017-02-08  131.350006  132.220001  131.220001  132.039993   23004100   \n10    2017-02-07  130.539993  132.089996  130.449997  131.529999   38183800   \n11    2017-02-06  129.130005  130.500000  128.899994  130.289993   26845900   \n12    2017-02-03  128.309998  129.190002  128.160004  129.080002   24507300   \n13    2017-02-02  127.980003  129.389999  127.779999  128.529999   33710400   \n14    2017-02-01  127.029999  130.490005  127.010002  128.750000  111985000   \n15    2017-01-31  121.150002  121.389999  120.620003  121.349998   49201000   \n16    2017-01-30  120.930000  121.629997  120.660004  121.629997   30377500   \n17    2017-01-27  122.139999  122.349998  121.599998  121.949997   20562900   \n18    2017-01-26  121.669998  122.440002  121.599998  121.940002   26337600   \n19    2017-01-25  120.419998  122.099998  120.279999  121.879997   32377600   \n20    2017-01-24  119.550003  120.099998  119.500000  119.970001   23211000   \n21    2017-01-23  120.000000  120.809998  119.769997  120.080002   22050200   \n22    2017-01-20  120.449997  120.449997  119.730003  120.000000   32597900   \n23    2017-01-19  119.400002  120.089996  119.370003  119.779999   25597300   \n24    2017-01-18  120.000000  120.500000  119.709999  119.989998   23713000   \n25    2017-01-17  118.339996  120.239998  118.220001  120.000000   34439800   \n26    2017-01-13  119.110001  119.620003  118.809998  119.040001   26111900   \n27    2017-01-12  118.900002  119.300003  118.209999  119.250000   27086200   \n28    2017-01-11  118.739998  119.930000  118.599998  119.750000   27588600   \n29    2017-01-10  118.769997  119.379997  118.300003  119.110001   24462100   \n...          ...         ...         ...         ...         ...        ...   \n1228  2012-04-04  624.349991  625.859985  617.000023  624.309990  143245200   \n1229  2012-04-03  627.300018  632.209984  622.510002  629.319984  208639900   \n1230  2012-04-02  601.830009  618.769997  600.379990  618.630020  149587900   \n1231  2012-03-30  608.769981  610.559982  597.939987  599.550011  182759500   \n1232  2012-03-29  612.780006  616.560013  607.230026  609.859993  152059600   \n1233  2012-03-28  618.379974  621.450005  610.309990  617.620010  163865100   \n1234  2012-03-27  606.180016  616.280006  606.060013  614.480019  151782400   \n1235  2012-03-26  599.790016  607.150024  595.259979  606.979980  148935500   \n1236  2012-03-23  600.490005  601.799995  594.399986  596.050011  107622200   \n1237  2012-03-22  597.779984  604.499977  595.529999  599.340019  155967700   \n1238  2012-03-21  602.739990  609.650002  601.410027  602.499985  161010500   \n1239  2012-03-20  599.510010  606.899979  591.480026  605.959984  204165500   \n1240  2012-03-19  598.370010  601.769981  589.050011  601.100006  225309000   \n1241  2012-03-16  584.719978  589.199974  577.999985  585.569984  206371900   \n1242  2012-03-15  599.609985  600.009995  578.550011  585.559998  289929500   \n1243  2012-03-14  578.050026  594.719994  575.399979  589.580009  354711000   \n1244  2012-03-13  557.540024  568.180000  555.750023  568.099998  172713800   \n1245  2012-03-12  548.979988  551.999977  547.000023  551.999977  101820600   \n1246  2012-03-09  544.209999  547.740013  543.110001  545.170021  104729800   \n1247  2012-03-08  534.689995  542.989998  532.120003  541.989975  129114300   \n1248  2012-03-07  536.800003  537.779999  523.299988  530.690010  199630200   \n1249  2012-03-06  523.659996  533.690025  516.219986  530.259987  202559700   \n1250  2012-03-05  545.420013  547.479980  526.000023  533.160027  202281100   \n1251  2012-03-02  544.240013  546.800018  542.519974  545.180008  107928100   \n1252  2012-03-01  548.169983  548.209984  538.769981  544.469978  170817500   \n1253  2012-02-29  541.560005  547.610023  535.700005  542.440025  238002800   \n1254  2012-02-28  527.960014  535.410011  525.850006  535.410011  150096800   \n1255  2012-02-27  521.309982  528.500000  516.280014  525.760017  136895500   \n1256  2012-02-24  519.669998  522.899979  518.640015  522.409981  103768000   \n1257  2012-02-23  515.079987  517.830009  509.499992  516.389977  142006900   \n\n       Adj Close  \n0     137.110001  \n1     136.699997  \n2     135.720001  \n3     135.350006  \n4     135.509995  \n5     135.020004  \n6     133.289993  \n7     132.119995  \n8     132.419998  \n9     131.469994  \n10    130.962201  \n11    129.727549  \n12    128.522781  \n13    127.975152  \n14    128.194203  \n15    120.826147  \n16    121.104937  \n17    121.423555  \n18    121.413604  \n19    121.353858  \n20    119.452107  \n21    119.561633  \n22    119.481976  \n23    119.262925  \n24    119.472017  \n25    119.481976  \n26    118.526121  \n27    118.735214  \n28    119.233055  \n29    118.595819  \n...          ...  \n1228   80.885322  \n1229   81.534415  \n1230   80.149428  \n1231   77.677430  \n1232   79.013187  \n1233   80.018571  \n1234   79.611755  \n1235   78.640054  \n1236   77.223972  \n1237   77.650224  \n1238   78.059627  \n1239   78.507903  \n1240   77.878247  \n1241   75.866184  \n1242   75.864890  \n1243   76.385721  \n1244   73.602781  \n1245   71.516869  \n1246   70.631983  \n1247   70.219978  \n1248   68.755959  \n1249   68.700246  \n1250   69.075974  \n1251   70.633277  \n1252   70.541286  \n1253   70.278286  \n1254   69.367481  \n1255   68.117232  \n1256   67.683203  \n1257   66.903253  \n\n[1258 rows x 7 columns]"
                    }, 
                    "output_type": "execute_result"
                }
            ], 
            "source": "\nbody = client_64dd1b2268ad43e4b4905b0a0968e5f6.get_object(Bucket='devfestdubai-donotdelete-pr-iki0wce4kmgv2l',Key='apple.csv')['Body']\n# add missing __iter__ method, so pandas accepts body as file-like object\nif not hasattr(body, \"__iter__\"): body.__iter__ = types.MethodType( __iter__, body )\n\ndf_data_2 = pd.read_csv(body)\ndf_data_2\n\n"
        }, 
        {
            "execution_count": 36, 
            "cell_type": "code", 
            "metadata": {}, 
            "outputs": [
                {
                    "execution_count": 36, 
                    "metadata": {}, 
                    "data": {
                        "text/plain": "516.38997699999993"
                    }, 
                    "output_type": "execute_result"
                }
            ], 
            "source": "df_data_2.loc[1257,'Close'].mean()"
        }, 
        {
            "execution_count": null, 
            "cell_type": "code", 
            "metadata": {}, 
            "outputs": [], 
            "source": ""
        }
    ], 
    "metadata": {
        "kernelspec": {
            "display_name": "Python 3.5", 
            "name": "python3", 
            "language": "python"
        }, 
        "language_info": {
            "mimetype": "text/x-python", 
            "nbconvert_exporter": "python", 
            "version": "3.5.4", 
            "name": "python", 
            "file_extension": ".py", 
            "pygments_lexer": "ipython3", 
            "codemirror_mode": {
                "version": 3, 
                "name": "ipython"
            }
        }
    }, 
    "nbformat": 4
}